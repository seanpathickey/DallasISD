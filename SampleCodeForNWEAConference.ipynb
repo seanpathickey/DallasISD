{
 "cells": [
  {
   "cell_type": "markdown",
   "id": "708cd0e6-3b9e-413f-9c07-f1574fd303fa",
   "metadata": {},
   "source": [
    "## Let's bring sample school data into Jupyter using Python"
   ]
  },
  {
   "cell_type": "code",
   "execution_count": 54,
   "id": "047b701c-efae-4434-8283-92bc24c2ad97",
   "metadata": {},
   "outputs": [],
   "source": [
    "import pandas as pd\n",
    "import numpy as np\n",
    "import matplotlib.pyplot as plt"
   ]
  },
  {
   "cell_type": "code",
   "execution_count": 55,
   "id": "c32fbd99-49f9-4bc4-954a-a5dcc6853b2f",
   "metadata": {},
   "outputs": [
    {
     "data": {
      "text/html": [
       "<div>\n",
       "<style scoped>\n",
       "    .dataframe tbody tr th:only-of-type {\n",
       "        vertical-align: middle;\n",
       "    }\n",
       "\n",
       "    .dataframe tbody tr th {\n",
       "        vertical-align: top;\n",
       "    }\n",
       "\n",
       "    .dataframe thead th {\n",
       "        text-align: right;\n",
       "    }\n",
       "</style>\n",
       "<table border=\"1\" class=\"dataframe\">\n",
       "  <thead>\n",
       "    <tr style=\"text-align: right;\">\n",
       "      <th></th>\n",
       "      <th>School</th>\n",
       "      <th>Name</th>\n",
       "      <th>Grade</th>\n",
       "      <th>Course</th>\n",
       "      <th>TestPercentile</th>\n",
       "      <th>GrowthPercentile</th>\n",
       "    </tr>\n",
       "  </thead>\n",
       "  <tbody>\n",
       "    <tr>\n",
       "      <th>0</th>\n",
       "      <td>Scranton Elementary</td>\n",
       "      <td>Michael</td>\n",
       "      <td>1</td>\n",
       "      <td>Reading</td>\n",
       "      <td>17</td>\n",
       "      <td>96</td>\n",
       "    </tr>\n",
       "    <tr>\n",
       "      <th>1</th>\n",
       "      <td>Scranton Elementary</td>\n",
       "      <td>Pam</td>\n",
       "      <td>2</td>\n",
       "      <td>Reading</td>\n",
       "      <td>25</td>\n",
       "      <td>12</td>\n",
       "    </tr>\n",
       "    <tr>\n",
       "      <th>2</th>\n",
       "      <td>Scranton Elementary</td>\n",
       "      <td>Jim</td>\n",
       "      <td>3</td>\n",
       "      <td>Reading</td>\n",
       "      <td>8</td>\n",
       "      <td>50</td>\n",
       "    </tr>\n",
       "    <tr>\n",
       "      <th>3</th>\n",
       "      <td>Scranton Elementary</td>\n",
       "      <td>Dwight</td>\n",
       "      <td>1</td>\n",
       "      <td>Reading</td>\n",
       "      <td>24</td>\n",
       "      <td>57</td>\n",
       "    </tr>\n",
       "    <tr>\n",
       "      <th>4</th>\n",
       "      <td>Scranton Elementary</td>\n",
       "      <td>Oscar</td>\n",
       "      <td>2</td>\n",
       "      <td>Reading</td>\n",
       "      <td>79</td>\n",
       "      <td>32</td>\n",
       "    </tr>\n",
       "    <tr>\n",
       "      <th>45</th>\n",
       "      <td>Nashua Elementary</td>\n",
       "      <td>Fred</td>\n",
       "      <td>2</td>\n",
       "      <td>Math</td>\n",
       "      <td>40</td>\n",
       "      <td>2</td>\n",
       "    </tr>\n",
       "    <tr>\n",
       "      <th>46</th>\n",
       "      <td>Nashua Elementary</td>\n",
       "      <td>Sarah</td>\n",
       "      <td>3</td>\n",
       "      <td>Math</td>\n",
       "      <td>51</td>\n",
       "      <td>91</td>\n",
       "    </tr>\n",
       "    <tr>\n",
       "      <th>47</th>\n",
       "      <td>Nashua Elementary</td>\n",
       "      <td>Simon</td>\n",
       "      <td>1</td>\n",
       "      <td>Math</td>\n",
       "      <td>94</td>\n",
       "      <td>14</td>\n",
       "    </tr>\n",
       "    <tr>\n",
       "      <th>48</th>\n",
       "      <td>Nashua Elementary</td>\n",
       "      <td>Latisha</td>\n",
       "      <td>2</td>\n",
       "      <td>Math</td>\n",
       "      <td>53</td>\n",
       "      <td>70</td>\n",
       "    </tr>\n",
       "    <tr>\n",
       "      <th>49</th>\n",
       "      <td>Nashua Elementary</td>\n",
       "      <td>Michael</td>\n",
       "      <td>3</td>\n",
       "      <td>Math</td>\n",
       "      <td>67</td>\n",
       "      <td>42</td>\n",
       "    </tr>\n",
       "  </tbody>\n",
       "</table>\n",
       "</div>"
      ],
      "text/plain": [
       "                 School     Name  Grade   Course  TestPercentile  \\\n",
       "0   Scranton Elementary  Michael      1  Reading              17   \n",
       "1   Scranton Elementary      Pam      2  Reading              25   \n",
       "2   Scranton Elementary      Jim      3  Reading               8   \n",
       "3   Scranton Elementary   Dwight      1  Reading              24   \n",
       "4   Scranton Elementary    Oscar      2  Reading              79   \n",
       "45    Nashua Elementary     Fred      2     Math              40   \n",
       "46    Nashua Elementary    Sarah      3     Math              51   \n",
       "47    Nashua Elementary    Simon      1     Math              94   \n",
       "48    Nashua Elementary  Latisha      2     Math              53   \n",
       "49    Nashua Elementary  Michael      3     Math              67   \n",
       "\n",
       "    GrowthPercentile  \n",
       "0                 96  \n",
       "1                 12  \n",
       "2                 50  \n",
       "3                 57  \n",
       "4                 32  \n",
       "45                 2  \n",
       "46                91  \n",
       "47                14  \n",
       "48                70  \n",
       "49                42  "
      ]
     },
     "execution_count": 55,
     "metadata": {},
     "output_type": "execute_result"
    }
   ],
   "source": [
    "data = pd.read_csv(r'C:\\NWEA_Conference\\SampleSchoolData.csv')\n",
    "data.iloc[np.r_[0:5, -5:0]]"
   ]
  },
  {
   "cell_type": "markdown",
   "id": "bdb46aaf-3b27-4a2e-baf8-2ebde468f1ad",
   "metadata": {},
   "source": [
    "## Let's look at some basic info about the data"
   ]
  },
  {
   "cell_type": "code",
   "execution_count": 56,
   "id": "fdf19529-3f76-45f8-8afe-fb98b34d37fa",
   "metadata": {},
   "outputs": [
    {
     "name": "stdout",
     "output_type": "stream",
     "text": [
      "N of Rows and Columns (50, 6)\n",
      "Schools in File ['Scranton Elementary' 'Corporate Elementary' 'Nashua Elementary']\n",
      "Courses in File ['Reading' 'Math']\n"
     ]
    }
   ],
   "source": [
    "print('N of Rows and Columns', data.shape)\n",
    "print('Schools in File', data.School.unique())\n",
    "print('Courses in File', data.Course.unique())"
   ]
  },
  {
   "cell_type": "markdown",
   "id": "0abf07c8-39af-4f00-b338-a18c758a38f3",
   "metadata": {},
   "source": [
    "## Let's look at only reading data"
   ]
  },
  {
   "cell_type": "code",
   "execution_count": 57,
   "id": "5755d7c3-f884-44cd-ba38-2b6f293109bd",
   "metadata": {},
   "outputs": [
    {
     "name": "stdout",
     "output_type": "stream",
     "text": [
      "Courses in File ['Reading' 'Math']\n"
     ]
    }
   ],
   "source": [
    "reading_data = data[data['Course'] == 'Reading']\n",
    "\n",
    "print('Courses in File', data.Course.unique())"
   ]
  },
  {
   "cell_type": "markdown",
   "id": "03f37a67-bcdd-44df-b955-cc59e20dff48",
   "metadata": {
    "tags": []
   },
   "source": [
    "## What is the median test percentile for each grade in Reading?"
   ]
  },
  {
   "cell_type": "code",
   "execution_count": 58,
   "id": "ae1c4bee-7678-458a-8d25-b641c652e0df",
   "metadata": {},
   "outputs": [
    {
     "data": {
      "text/plain": [
       "Grade\n",
       "1    24.0\n",
       "2    53.5\n",
       "3    65.5\n",
       "Name: TestPercentile, dtype: float64"
      ]
     },
     "execution_count": 58,
     "metadata": {},
     "output_type": "execute_result"
    }
   ],
   "source": [
    "grouped_grade = reading_data.groupby(['Grade'])['TestPercentile'].median()\n",
    "grouped_grade"
   ]
  },
  {
   "cell_type": "markdown",
   "id": "cf757b4a-84b9-4d94-9126-5cf842253438",
   "metadata": {
    "tags": []
   },
   "source": [
    "## What is the median test percentile for each school in Reading?"
   ]
  },
  {
   "cell_type": "code",
   "execution_count": 59,
   "id": "968f8039-a6e7-417c-859f-d7f3b56e7df7",
   "metadata": {},
   "outputs": [
    {
     "data": {
      "text/plain": [
       "School\n",
       "Corporate Elementary    38.5\n",
       "Nashua Elementary       69.0\n",
       "Scranton Elementary     21.0\n",
       "Name: TestPercentile, dtype: float64"
      ]
     },
     "execution_count": 59,
     "metadata": {},
     "output_type": "execute_result"
    }
   ],
   "source": [
    "grouped_school = reading_data.groupby(['School'])['TestPercentile'].median()\n",
    "grouped_school"
   ]
  },
  {
   "cell_type": "markdown",
   "id": "2ed2acf8-293a-410a-b426-40924ba43143",
   "metadata": {},
   "source": [
    "## Create a graph showing the results"
   ]
  },
  {
   "cell_type": "code",
   "execution_count": 60,
   "id": "666171e8-b365-4597-b4af-dab53269511f",
   "metadata": {},
   "outputs": [
    {
     "data": {
      "text/plain": [
       "<AxesSubplot:xlabel='School'>"
      ]
     },
     "execution_count": 60,
     "metadata": {},
     "output_type": "execute_result"
    },
    {
     "data": {
      "image/png": "[encoded data removed]",
      "text/plain": [
       "<Figure size 720x288 with 1 Axes>"
      ]
     },
     "metadata": {
      "needs_background": "light"
     },
     "output_type": "display_data"
    }
   ],
   "source": [
    "grouped_school.plot(kind='bar', rot=0, figsize=(10,4))"
   ]
  },
  {
   "cell_type": "markdown",
   "id": "731c08f4-d4dd-442d-86f5-1798b3f7f7fd",
   "metadata": {},
   "source": [
    "## What are the median test and growth percentiles of each grade level at each campus? "
   ]
  },
  {
   "cell_type": "code",
   "execution_count": 62,
   "id": "01133270-2825-44dd-940a-84ee6c3f6e87",
   "metadata": {},
   "outputs": [
    {
     "data": {
      "image/png": "[encoded data removed]",
      "text/plain": [
       "<Figure size 576x288 with 1 Axes>"
      ]
     },
     "metadata": {
      "needs_background": "light"
     },
     "output_type": "display_data"
    },
    {
     "data": {
      "image/png": "[encoded data removed]",
      "text/plain": [
       "<Figure size 576x288 with 1 Axes>"
      ]
     },
     "metadata": {
      "needs_background": "light"
     },
     "output_type": "display_data"
    },
    {
     "data": {
      "image/png": "[encoded data removed]",
      "text/plain": [
       "<Figure size 576x288 with 1 Axes>"
      ]
     },
     "metadata": {
      "needs_background": "light"
     },
     "output_type": "display_data"
    }
   ],
   "source": [
    "for school_name in list(data.School.unique()):\n",
    "    school_data = data[data['School'] == school_name]\n",
    "    grouped_school = school_data.groupby(['Grade'])[['TestPercentile', 'GrowthPercentile']].median()\n",
    "    grouped_school.plot(kind='bar', rot=0, figsize=(8,4), title=school_name)\n",
    "    plt.savefig(r'C:\\NWEA_Conference\\SchoolImages\\{}.jpg'.format(school_name))"
   ]
  },
  {
   "cell_type": "code",
   "execution_count": null,
   "id": "6988b8bb-7e41-4629-ab2f-8becdf67b271",
   "metadata": {},
   "outputs": [],
   "source": []
  }
 ],
 "metadata": {
  "kernelspec": {
   "display_name": "Python 3 (ipykernel)",
   "language": "python",
   "name": "python3"
  },
  "language_info": {
   "codemirror_mode": {
    "name": "ipython",
    "version": 3
   },
   "file_extension": ".py",
   "mimetype": "text/x-python",
   "name": "python",
   "nbconvert_exporter": "python",
   "pygments_lexer": "ipython3",
   "version": "3.8.8"
  }
 },
 "nbformat": 4,
 "nbformat_minor": 5
}
